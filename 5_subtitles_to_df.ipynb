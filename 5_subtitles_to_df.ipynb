{
  "nbformat": 4,
  "nbformat_minor": 0,
  "metadata": {
    "colab": {
      "name": "5-subtitles to df.ipynb",
      "provenance": [],
      "collapsed_sections": [],
      "mount_file_id": "1h3cQZEszu2-cskkD_MYx7edU0Slk4v6O",
      "authorship_tag": "ABX9TyPtfxuUxQGklXJzagCGzXaw",
      "include_colab_link": true
    },
    "kernelspec": {
      "name": "python3",
      "display_name": "Python 3"
    },
    "language_info": {
      "name": "python"
    }
  },
  "cells": [
    {
      "cell_type": "markdown",
      "metadata": {
        "id": "view-in-github",
        "colab_type": "text"
      },
      "source": [
        "<a href=\"https://colab.research.google.com/github/da-head0/youreditor/blob/main/5_subtitles_to_df.ipynb\" target=\"_parent\"><img src=\"https://colab.research.google.com/assets/colab-badge.svg\" alt=\"Open In Colab\"/></a>"
      ]
    },
    {
      "cell_type": "code",
      "metadata": {
        "id": "Tc88wOWACcIm"
      },
      "source": [
        "import pandas as pd\n",
        "import glob\n",
        "\n",
        "glob.glob('/content/drive/MyDrive/dataset/subs/lln_excel_subs_2021-4-25_*.xlsx')"
      ],
      "execution_count": null,
      "outputs": []
    },
    {
      "cell_type": "code",
      "metadata": {
        "colab": {
          "base_uri": "https://localhost:8080/",
          "height": 202
        },
        "id": "9y2qC2amGpRw",
        "outputId": "14f95e3d-930c-4c16-dfef-2ade7a2787c1"
      },
      "source": [
        "all_data = pd.DataFrame()\n",
        "for f in glob.glob('/content/drive/MyDrive/dataset/subs/lln_excel_subs_2021-4-25_*.xlsx'):\n",
        "    df = pd.read_excel(f)\n",
        "    all_data = all_data.append(df,ignore_index=True)\n",
        "\n",
        "all_data.head()"
      ],
      "execution_count": null,
      "outputs": [
        {
          "output_type": "execute_result",
          "data": {
            "text/html": [
              "<div>\n",
              "<style scoped>\n",
              "    .dataframe tbody tr th:only-of-type {\n",
              "        vertical-align: middle;\n",
              "    }\n",
              "\n",
              "    .dataframe tbody tr th {\n",
              "        vertical-align: top;\n",
              "    }\n",
              "\n",
              "    .dataframe thead th {\n",
              "        text-align: right;\n",
              "    }\n",
              "</style>\n",
              "<table border=\"1\" class=\"dataframe\">\n",
              "  <thead>\n",
              "    <tr style=\"text-align: right;\">\n",
              "      <th></th>\n",
              "      <th>Subtitle</th>\n",
              "      <th>Translation</th>\n",
              "    </tr>\n",
              "  </thead>\n",
              "  <tbody>\n",
              "    <tr>\n",
              "      <th>0</th>\n",
              "      <td>- THAT WOULD BE FOUR, ACTUALLY.</td>\n",
              "      <td>세 번 연속으로 이기셨네요 정확히는 네 번 연속이에요</td>\n",
              "    </tr>\n",
              "    <tr>\n",
              "      <th>1</th>\n",
              "      <td>- OH, GOD. - COME ON.</td>\n",
              "      <td>정확히는 네 번 연속이에요</td>\n",
              "    </tr>\n",
              "    <tr>\n",
              "      <th>2</th>\n",
              "      <td>WHAT DO YOU SAY, WE GO FIVE OUTTA NINE?</td>\n",
              "      <td>이제 9판 5승제로 갈까요?</td>\n",
              "    </tr>\n",
              "    <tr>\n",
              "      <th>3</th>\n",
              "      <td>- SO YOU CAN KEEP ABUSING ME? NO, THANK YOU. I...</td>\n",
              "      <td>계속 갖고 노시려고요?\\n됐어요, 그만할래요</td>\n",
              "    </tr>\n",
              "    <tr>\n",
              "      <th>4</th>\n",
              "      <td>- OH, COME ON. I'LL SPOT YOU THREE.</td>\n",
              "      <td>세 판 핸디캡 드릴게요</td>\n",
              "    </tr>\n",
              "  </tbody>\n",
              "</table>\n",
              "</div>"
            ],
            "text/plain": [
              "                                            Subtitle                    Translation\n",
              "0                    - THAT WOULD BE FOUR, ACTUALLY.  세 번 연속으로 이기셨네요 정확히는 네 번 연속이에요\n",
              "1                              - OH, GOD. - COME ON.                 정확히는 네 번 연속이에요\n",
              "2            WHAT DO YOU SAY, WE GO FIVE OUTTA NINE?                이제 9판 5승제로 갈까요?\n",
              "3  - SO YOU CAN KEEP ABUSING ME? NO, THANK YOU. I...       계속 갖고 노시려고요?\\n됐어요, 그만할래요\n",
              "4                - OH, COME ON. I'LL SPOT YOU THREE.                   세 판 핸디캡 드릴게요"
            ]
          },
          "metadata": {
            "tags": []
          },
          "execution_count": 9
        }
      ]
    },
    {
      "cell_type": "code",
      "metadata": {
        "colab": {
          "base_uri": "https://localhost:8080/"
        },
        "id": "9l2vdQQsIbIP",
        "outputId": "b583fb59-b728-4a74-c546-3e88c7d1c468"
      },
      "source": [
        "all_data.shape"
      ],
      "execution_count": null,
      "outputs": [
        {
          "output_type": "execute_result",
          "data": {
            "text/plain": [
              "(34090, 2)"
            ]
          },
          "metadata": {
            "tags": []
          },
          "execution_count": 9
        }
      ]
    },
    {
      "cell_type": "markdown",
      "metadata": {
        "id": "av3OiuBSIkOk"
      },
      "source": [
        "- 생각보다 별로 안되네..."
      ]
    },
    {
      "cell_type": "code",
      "metadata": {
        "colab": {
          "base_uri": "https://localhost:8080/",
          "height": 79
        },
        "id": "fv-mDmv1HxBx",
        "outputId": "4f909149-ab31-447a-8faf-931216848998"
      },
      "source": [
        "all_data.loc[all_data['Subtitle']=='']"
      ],
      "execution_count": null,
      "outputs": [
        {
          "output_type": "execute_result",
          "data": {
            "text/html": [
              "<div>\n",
              "<style scoped>\n",
              "    .dataframe tbody tr th:only-of-type {\n",
              "        vertical-align: middle;\n",
              "    }\n",
              "\n",
              "    .dataframe tbody tr th {\n",
              "        vertical-align: top;\n",
              "    }\n",
              "\n",
              "    .dataframe thead th {\n",
              "        text-align: right;\n",
              "    }\n",
              "</style>\n",
              "<table border=\"1\" class=\"dataframe\">\n",
              "  <thead>\n",
              "    <tr style=\"text-align: right;\">\n",
              "      <th></th>\n",
              "      <th>Subtitle</th>\n",
              "      <th>Translation</th>\n",
              "    </tr>\n",
              "  </thead>\n",
              "  <tbody>\n",
              "    <tr>\n",
              "      <th>1</th>\n",
              "      <td>- OH, GOD. - COME ON.</td>\n",
              "      <td>정확히는 네 번 연속이에요</td>\n",
              "    </tr>\n",
              "  </tbody>\n",
              "</table>\n",
              "</div>"
            ],
            "text/plain": [
              "                Subtitle     Translation\n",
              "1  - OH, GOD. - COME ON.  정확히는 네 번 연속이에요"
            ]
          },
          "metadata": {
            "tags": []
          },
          "execution_count": 8
        }
      ]
    },
    {
      "cell_type": "code",
      "metadata": {
        "colab": {
          "base_uri": "https://localhost:8080/",
          "height": 36
        },
        "id": "yqVv9i6KKHXV",
        "outputId": "6b48027b-a1ce-401c-d0a2-bca55e32441a"
      },
      "source": [
        "import re\n",
        "# 화면자막 지우기\n",
        "text = '[SMILE] (한숨) \"화면자막\" Hey! Whats up?'\n",
        "text = re.sub(r'\\([^)]*\\)','',text).strip() # () 안 지시문 없애기\n",
        "text = re.sub(r\"\\[.+\\]\",'',text).strip() # [] 안 지시문 없애기\n",
        "text = re.sub(r\"\\\".+\\\"\",'',text).strip() # \"화면자막\" 없애기\n",
        "text"
      ],
      "execution_count": null,
      "outputs": [
        {
          "output_type": "execute_result",
          "data": {
            "application/vnd.google.colaboratory.intrinsic+json": {
              "type": "string"
            },
            "text/plain": [
              "'화면자막 Hey! Whats up?'"
            ]
          },
          "metadata": {
            "tags": []
          },
          "execution_count": 88
        }
      ]
    },
    {
      "cell_type": "markdown",
      "metadata": {
        "id": "Sl-FeJFMoo0t"
      },
      "source": [
        "# Todo\n",
        "- 숫자 속의 , 양 옆의 빈칸 없애기"
      ]
    },
    {
      "cell_type": "code",
      "metadata": {
        "colab": {
          "base_uri": "https://localhost:8080/",
          "height": 36
        },
        "id": "2qyDszpMmz-l",
        "outputId": "c3cc68cf-b334-45de-f42b-f4242b452816"
      },
      "source": [
        "text = \"that's 4 , 140 pages . plus all this\"\n",
        "text = re.sub(r'[\\W]','',text).strip()\n",
        "text"
      ],
      "execution_count": null,
      "outputs": [
        {
          "output_type": "execute_result",
          "data": {
            "application/vnd.google.colaboratory.intrinsic+json": {
              "type": "string"
            },
            "text/plain": [
              "'thats4140pagesplusallthis'"
            ]
          },
          "metadata": {
            "tags": []
          },
          "execution_count": 94
        }
      ]
    },
    {
      "cell_type": "code",
      "metadata": {
        "colab": {
          "base_uri": "https://localhost:8080/",
          "height": 36
        },
        "id": "pwHOHSnHlHVr",
        "outputId": "87e951a5-94a6-4d59-c5d1-2dc3b2f3a5ef"
      },
      "source": [
        "w = '[\"너는 무슨 역할을 하는 거니?\"]'\n",
        "w = re.sub(r'[\" \"]+', \" \", w) # \"를 지우고 한칸 띄워줌 - \"\" 안의 문자까지 없애진 않는다.\n",
        "w"
      ],
      "execution_count": null,
      "outputs": [
        {
          "output_type": "execute_result",
          "data": {
            "application/vnd.google.colaboratory.intrinsic+json": {
              "type": "string"
            },
            "text/plain": [
              "'[ 너는 무슨 역할을 하는 거니? ]'"
            ]
          },
          "metadata": {
            "tags": []
          },
          "execution_count": 87
        }
      ]
    },
    {
      "cell_type": "code",
      "metadata": {
        "colab": {
          "base_uri": "https://localhost:8080/",
          "height": 36
        },
        "id": "2VPOF4kraWkn",
        "outputId": "b9c3003a-5fbf-4290-d540-ed9ddf2dfdf3"
      },
      "source": [
        "all_data['Subtitle'][19]"
      ],
      "execution_count": null,
      "outputs": [
        {
          "output_type": "execute_result",
          "data": {
            "application/vnd.google.colaboratory.intrinsic+json": {
              "type": "string"
            },
            "text/plain": [
              "'- YOU MEAN THIS? - ( sighs )'"
            ]
          },
          "metadata": {
            "tags": []
          },
          "execution_count": 11
        }
      ]
    },
    {
      "cell_type": "markdown",
      "metadata": {
        "id": "ThWssQukalS8"
      },
      "source": [
        "- 이런 지시문도 잡아주어야 한다."
      ]
    },
    {
      "cell_type": "code",
      "metadata": {
        "id": "G4ehEP2tJEbS"
      },
      "source": [
        "import unicodedata\n",
        "# 유니코드 파일을 아스키 코드 파일로 변환합니다.\n",
        "def unicode_to_ascii(s):\n",
        "  return ''.join(c for c in unicodedata.normalize('NFD', s)\n",
        "      if unicodedata.category(c) != 'Mn')\n",
        "\n",
        "\n",
        "def preprocess_sentence(w):\n",
        "  w = unicode_to_ascii(w.lower().strip())\n",
        "\n",
        "  # 단어와 단어 뒤에 오는 구두점(.)사이에 공백을 생성합니다.\n",
        "  # 예시: \"he is a boy.\" => \"he is a boy .\"\n",
        "  # 참고:- https://stackoverflow.com/questions/3645931/python-padding-punctuation-with-white-spaces-keeping-punctuation\n",
        "  w = re.sub(r\"\\[.+\\]\",'',w).strip() # 영어 문장 속의 [smile] 같은 지시문 없애기\n",
        "  w = re.sub(r'\\([^)]*\\)','',w).strip() # (sigh) 같은 지시문 없애기\n",
        "  w = re.sub(r\"([?.!,¿])\", r\" \\1 \", w)\n",
        "  #w = re.sub(r\" . . .\", r\" ...\", w) # . . . -> ... \n",
        "  w = re.sub(r'[\" \"]+', \" \", w) # \"를 지우고 한칸 띄워줌 - 혹시나 있을 \"를 공백으로 치환.\n",
        "\n",
        "  # (a-z, A-Z, \".\", \"?\", \"!\", \",\")을 제외한 모든 것을 공백으로 대체합니다.\n",
        "  w = re.sub(r\"[^0-9a-zA-Z?.!',¿$]+\", \" \", w) # ' 포함 - 숫자 빼면 안 된다!!\n",
        "\n",
        "  w = w.strip()\n",
        "\n",
        "  # 모델이 예측을 시작하거나 중단할 때를 알게 하기 위해서\n",
        "  # 문장에 start와 end 토큰을 추가합니다.\n",
        "  #w = '<start> ' + w + ' <end>'\n",
        "  return w\n",
        "\n",
        "\n",
        "def preprocess_sentence_kr(w):\n",
        "  w = w.strip()\n",
        "\n",
        "  # 단어와 단어 뒤에 오는 구두점(.)사이에 공백을 생성합니다.\n",
        "  # 예시: \"he is a boy.\" => \"he is a boy .\"\n",
        "  # 참고:- https://stackoverflow.com/questions/3645931/python-padding-punctuation-with-white-spaces-keeping-punctuation\n",
        "  w = re.sub(r\"\\\".+\\\"\",'',w).strip() # 큰따옴표 제거 - 화면자막\n",
        "  w = re.sub(r\"([?.!,¿])\", r\" \\1 \", w)\n",
        "  #w = re.sub(r\" . . .\", r\" ...\", w) # 이거 넣으니 한국어에서 짤리는 문장이 발생\n",
        "  w = re.sub(r'[\" \"]+', \" \", w)\n",
        "\n",
        "  # (a-z, A-Z, \".\", \"?\", \"!\", \",\")을 제외한 모든 것을 공백으로 대체합니다.\n",
        "  w = re.sub(r\"[^0-9가-힣?.!,¿]+\", \" \", w) # \\n도 공백으로 대체해줌\n",
        "  #w = re.sub(r'[ |ㄱ-ㅎ|ㅏ-ㅣ]+', \" \", w)\n",
        "\n",
        "  w = w.strip()\n",
        "\n",
        "  # 모델이 예측을 시작하거나 중단할 때를 알게 하기 위해서\n",
        "  # 문장에 start와 end 토큰을 추가합니다.\n",
        "  #w = '<start> ' + w + ' <end>'\n",
        "  return w"
      ],
      "execution_count": null,
      "outputs": []
    },
    {
      "cell_type": "code",
      "metadata": {
        "id": "SEDSAF83JbYL"
      },
      "source": [
        "df = pd.DataFrame()"
      ],
      "execution_count": null,
      "outputs": []
    },
    {
      "cell_type": "code",
      "metadata": {
        "id": "Sx78XeWMJSk4"
      },
      "source": [
        "df['en'] = [preprocess_sentence(l) for l in all_data['Subtitle']]\n",
        "df['kr'] = [preprocess_sentence_kr(l) for l in all_data['Translation']]"
      ],
      "execution_count": null,
      "outputs": []
    },
    {
      "cell_type": "code",
      "metadata": {
        "colab": {
          "base_uri": "https://localhost:8080/",
          "height": 415
        },
        "id": "8kLS9R7nVc1p",
        "outputId": "b6438033-d202-4586-9b68-42b6412274ce"
      },
      "source": [
        "df"
      ],
      "execution_count": null,
      "outputs": [
        {
          "output_type": "execute_result",
          "data": {
            "text/html": [
              "<div>\n",
              "<style scoped>\n",
              "    .dataframe tbody tr th:only-of-type {\n",
              "        vertical-align: middle;\n",
              "    }\n",
              "\n",
              "    .dataframe tbody tr th {\n",
              "        vertical-align: top;\n",
              "    }\n",
              "\n",
              "    .dataframe thead th {\n",
              "        text-align: right;\n",
              "    }\n",
              "</style>\n",
              "<table border=\"1\" class=\"dataframe\">\n",
              "  <thead>\n",
              "    <tr style=\"text-align: right;\">\n",
              "      <th></th>\n",
              "      <th>en</th>\n",
              "      <th>kr</th>\n",
              "    </tr>\n",
              "  </thead>\n",
              "  <tbody>\n",
              "    <tr>\n",
              "      <th>0</th>\n",
              "      <td>that would be four , actually .</td>\n",
              "      <td>세 번 연속으로 이기셨네요 정확히는 네 번 연속이에요</td>\n",
              "    </tr>\n",
              "    <tr>\n",
              "      <th>1</th>\n",
              "      <td>oh , god . come on .</td>\n",
              "      <td>정확히는 네 번 연속이에요</td>\n",
              "    </tr>\n",
              "    <tr>\n",
              "      <th>2</th>\n",
              "      <td>what do you say , we go five outta nine ?</td>\n",
              "      <td>이제 9판 5승제로 갈까요 ?</td>\n",
              "    </tr>\n",
              "    <tr>\n",
              "      <th>3</th>\n",
              "      <td>so you can keep abusing me ? no , thank you . ...</td>\n",
              "      <td>계속 갖고 노시려고요 ? 됐어요 , 그만할래요</td>\n",
              "    </tr>\n",
              "    <tr>\n",
              "      <th>4</th>\n",
              "      <td>oh , come on . i'll spot you three .</td>\n",
              "      <td>세 판 핸디캡 드릴게요</td>\n",
              "    </tr>\n",
              "    <tr>\n",
              "      <th>...</th>\n",
              "      <td>...</td>\n",
              "      <td>...</td>\n",
              "    </tr>\n",
              "    <tr>\n",
              "      <th>34085</th>\n",
              "      <td>report card . mm hmm . report card .</td>\n",
              "      <td>성적표</td>\n",
              "    </tr>\n",
              "    <tr>\n",
              "      <th>34086</th>\n",
              "      <td>notice from the city to take down the tree hou...</td>\n",
              "      <td>나무 위 집을 계속 놔둘 거면</td>\n",
              "    </tr>\n",
              "    <tr>\n",
              "      <th>34087</th>\n",
              "      <td>or be fined $25 a day .</td>\n",
              "      <td>하루 25달러씩 벌금 내라는 편지요</td>\n",
              "    </tr>\n",
              "    <tr>\n",
              "      <th>34088</th>\n",
              "      <td>report card .</td>\n",
              "      <td>성적표</td>\n",
              "    </tr>\n",
              "    <tr>\n",
              "      <th>34089</th>\n",
              "      <td>red light ticket from when me and manny stole ...</td>\n",
              "      <td>저랑 매니가 몰래 차 탔을 때 신호 위반 딱지 . . .</td>\n",
              "    </tr>\n",
              "  </tbody>\n",
              "</table>\n",
              "<p>34090 rows × 2 columns</p>\n",
              "</div>"
            ],
            "text/plain": [
              "                                                      en                               kr\n",
              "0                        that would be four , actually .    세 번 연속으로 이기셨네요 정확히는 네 번 연속이에요\n",
              "1                                   oh , god . come on .                   정확히는 네 번 연속이에요\n",
              "2              what do you say , we go five outta nine ?                 이제 9판 5승제로 갈까요 ?\n",
              "3      so you can keep abusing me ? no , thank you . ...        계속 갖고 노시려고요 ? 됐어요 , 그만할래요\n",
              "4                   oh , come on . i'll spot you three .                     세 판 핸디캡 드릴게요\n",
              "...                                                  ...                              ...\n",
              "34085               report card . mm hmm . report card .                              성적표\n",
              "34086  notice from the city to take down the tree hou...                 나무 위 집을 계속 놔둘 거면\n",
              "34087                            or be fined $25 a day .              하루 25달러씩 벌금 내라는 편지요\n",
              "34088                                      report card .                              성적표\n",
              "34089  red light ticket from when me and manny stole ...  저랑 매니가 몰래 차 탔을 때 신호 위반 딱지 . . .\n",
              "\n",
              "[34090 rows x 2 columns]"
            ]
          },
          "metadata": {
            "tags": []
          },
          "execution_count": 92
        }
      ]
    },
    {
      "cell_type": "markdown",
      "metadata": {
        "id": "aAH5j2uEW4or"
      },
      "source": [
        "- 와우 화면 자막도 있네...."
      ]
    },
    {
      "cell_type": "code",
      "metadata": {
        "colab": {
          "base_uri": "https://localhost:8080/"
        },
        "id": "ZQFnqWO1Xx-k",
        "outputId": "1c5e4e26-568b-4d7a-e2bc-fe89a62b86f6"
      },
      "source": [
        "df.iloc[196]"
      ],
      "execution_count": null,
      "outputs": [
        {
          "output_type": "execute_result",
          "data": {
            "text/plain": [
              "en    the bigger they are , the harder they fall .\n",
              "kr                     몸집이 클수록 처참하게 무너지지 휴대폰 소지 금지\n",
              "Name: 196, dtype: object"
            ]
          },
          "metadata": {
            "tags": []
          },
          "execution_count": 39
        }
      ]
    },
    {
      "cell_type": "markdown",
      "metadata": {
        "id": "5LpwX3HHX4HY"
      },
      "source": [
        "- \"휴대폰 소지 금지\" 로 들어가면 모를까 '' 로 감싸이면 '강조표시' 랑 구분이 안되어 지울 수가 없다... ^^...."
      ]
    },
    {
      "cell_type": "markdown",
      "metadata": {
        "id": "9tDheqDhYESL"
      },
      "source": [
        "- 하.. 일단 무시..."
      ]
    },
    {
      "cell_type": "code",
      "metadata": {
        "colab": {
          "base_uri": "https://localhost:8080/"
        },
        "id": "B5ci53_oo8sB",
        "outputId": "81b81cc9-9d2a-4eba-ddc7-43f13c3c01fe"
      },
      "source": [
        "for i in range(0,100):\n",
        "  print(all_data.iloc[i,0]) # en\n",
        "  print(all_data.iloc[i,1]) # kr\n",
        "  print('-----')"
      ],
      "execution_count": null,
      "outputs": [
        {
          "output_type": "stream",
          "text": [
            "- THAT WOULD BE FOUR, ACTUALLY.\n",
            "세 번 연속으로 이기셨네요 정확히는 네 번 연속이에요\n",
            "-----\n",
            "- OH, GOD. - COME ON.\n",
            "정확히는 네 번 연속이에요\n",
            "-----\n",
            "WHAT DO YOU SAY, WE GO FIVE OUTTA NINE?\n",
            "이제 9판 5승제로 갈까요?\n",
            "-----\n",
            "- SO YOU CAN KEEP ABUSING ME? NO, THANK YOU. I'M DONE.\n",
            "계속 갖고 노시려고요?\n",
            "됐어요, 그만할래요\n",
            "-----\n",
            "- OH, COME ON. I'LL SPOT YOU THREE.\n",
            "세 판 핸디캡 드릴게요\n",
            "-----\n",
            "- GAME TIME'S OVER, WYATT. THEY'RE HERE. - THEY'RE HERE?\n",
            "-와이엇 씨, 그만 놀고 가시죠\n",
            "-왔나요?\n",
            "-----\n",
            "- YOU CAN SET UP IN THE CONFERENCE ROOM. - YEAH. NO, I'M JUST...\n",
            "-회의실 가서 준비하도록 하세요\n",
            "-아뇨, 저기...\n",
            "-----\n",
            "- GET SET UP IN THE CONFERENCE ROOM.\n",
            "회의실 가셔야죠\n",
            "-----\n",
            "YOU DID LET HIM WIN, RIGHT? - IT WASN'T EASY.\n",
            "-져준 거 맞지?\n",
            "-쉽지 않았어요\n",
            "-----\n",
            "THE GUY HAS THE COORDINATION OF A TWO-YEAR-OLD.\n",
            "2살짜리 같더라고요\n",
            "-----\n",
            "- I KNOW. THE LAST TIME THESE VENTURE CAPITALISTS CAME IN,\n",
            "지난번엔 복싱했었어\n",
            "-----\n",
            "I TOOK HIM BOXING TO CALM HIM DOWN.\n",
            "지난번엔 복싱했었어 이기게 해 주려고\n",
            "내 얼굴을 때리다시피 했다니까\n",
            "-----\n",
            "I BASICALLY HAD TO PUNCH MYSELF IN THE FACE TO LET HIM WIN.\n",
            "이기게 해 주려고\n",
            "내 얼굴을 때리다시피 했다니까\n",
            "-----\n",
            "I DON'T GET IT. I MEAN, IF HE'S SUCH A GENIUS, WHY DOES HE GET SO NERVOUS AROUND A BUNCH OF INVESTORS?\n",
            "저런 천재가 왜 투자자들 앞에선\n",
            "벌벌 떠는지 모르겠어요\n",
            "-----\n",
            "- EH, YOU SPEND TWO YEARS WORKING ON\n",
            "저런 천재가 왜 투자자들 앞에선\n",
            "벌벌 떠는지 모르겠어요 포켓형 위성 휴대폰 개발에\n",
            "회사 운명을 걸고 2년을 투자했어\n",
            "-----\n",
            "A SATELLITE PHONE THAT FITS IN YOUR POCKET AND THEN BET THE COMPANY ON IT.\n",
            "포켓형 위성 휴대폰 개발에\n",
            "회사 운명을 걸고 2년을 투자했어\n",
            "-----\n",
            "YOU'D BE A LITTLE NERVOUS TOO, I THINK.\n",
            "누구라도 긴장할 거야\n",
            "-----\n",
            "- THE PROTOTYPE...\n",
            "제품 원형 샘플!\n",
            "-----\n",
            "I CAN'T FIND IT. I DON'T KNOW WHERE I--\n",
            "제품 원형 샘플! -어디 있는지 못 찾겠어요\n",
            "-이거요?\n",
            "-----\n",
            "- YOU MEAN THIS? - ( sighs )\n",
            "-어디 있는지 못 찾겠어요\n",
            "-이거요?\n",
            "-----\n",
            "I DON'T KNOW WHAT I'D DO WITHOUT YOU.\n",
            "변호사님 아니었으면...\n",
            "-----\n",
            "- FAIL MISERABLY. - I WOULD.\n",
            "-완전 망했겠죠\n",
            "-맞아요\n",
            "-----\n",
            "- IS THAT THE... - $20 MILLION PROTOTYPE, YES.\n",
            "-그게...\n",
            "-2천만 달러짜리 원형이야\n",
            "-----\n",
            "AND YOU DON'T EVEN GET TO LOOK AT THIS BAD BOY UNTIL AFTER WE CLOSE THE DEAL TODAY.\n",
            "계약 성사 전까지는\n",
            "얼씬도 하지 마\n",
            "-----\n",
            "- WOW, THEY'RE LIKE STORM TROOPERS.\n",
            "와! 무슨 돌격대원들이네요\n",
            "-----\n",
            "- STORM TROOPERS DON'T WRITE CHECKS.\n",
            "수표를 쓰는 돌격대원들은 없겠죠\n",
            "-----\n",
            "NOW ALL YOU GOTTA DO IS WALK IN THERE,\n",
            "수표를 쓰는 돌격대원들은 없겠죠 저기로 걸어 들어가서\n",
            "작동 시연만 하시면 됩니다\n",
            "-----\n",
            "SHOW THEM HOW THE PHONE WORKS...\n",
            "저기로 걸어 들어가서\n",
            "작동 시연만 하시면 됩니다\n",
            "-----\n",
            "- RIGHT, AND SUNTECH DIGITAL WILL BE A NEW FORCE\n",
            "선테크 디지털이 국제 통신의\n",
            "새로운 주자가 되는 거죠\n",
            "-----\n",
            "IN GLOBAL COMMUNICATIONS. - LET'S KNOCK 'EM DEAD.\n",
            "선테크 디지털이 국제 통신의\n",
            "새로운 주자가 되는 거죠 본때를 보여주자고요!\n",
            "-----\n",
            "- ALL RIGHT.\n",
            "좋아요\n",
            "-----\n",
            "- WAIT, WAIT. WHERE DO YOU THINK YOU'RE GOING?\n",
            "잠깐, 어디 가려고?\n",
            "-----\n",
            "- INTO THE ROOM WITH THE PEOPLE.\n",
            "회의실 안으로요\n",
            "사람들이랑 같이...\n",
            "-----\n",
            "- WRONG, THAT'S THE ADULT TABLE IN THERE.\n",
            "안 돼\n",
            "여긴 어른들 자리야\n",
            "-----\n",
            "AND YOU HAVEN'T EARNED THE PRIVILEGE YET.\n",
            "아직은 자격이 안 돼\n",
            "-----\n",
            "- BUT I PLAYED AIR HOCKEY WITH HIM-- - YOU NEED TO GO BACK TO THE OFFICE AND FILE A PATENT FOR THE PHONE.\n",
            "-에어 하키 게임도 했잖아요\n",
            "-사무실 가서 특허 서류 만들어\n",
            "-----\n",
            "- A PATENT? I DON'T KNOW HOW TO FILE A PATENT.\n",
            "특허요? 특허 신청 서류\n",
            "작성할 줄 모르는데요\n",
            "-----\n",
            "- FIGURE IT OUT. - CAN'T WE DO THAT AFTER--\n",
            "-알아내\n",
            "-이거 끝나고 하면...\n",
            "-----\n",
            "- NO, AND YOU KEEP TALKING, I'M GONNA START BILLING YOU.\n",
            "고집부리면\n",
            "수임료 청구할 거야\n",
            "-----\n",
            "AND MY TIME RUNS $1,000 AN HOUR.\n",
            "시간당 1천 달러야\n",
            "-----\n",
            "- BUT ISN'T THIS OUR TIME, MR. HAND?\n",
            "'우리 함께할 때' 아닌가요?\n",
            "-----\n",
            "- I STAND CORRECTED.\n",
            "정정할게\n",
            "-----\n",
            "YOUR FAST TIMES AT RIDGEMONT HIGH QUOTE, THAT PROVES YOU BELONG AT THE ADULT TABLE.\n",
            "'리치몬드 연애 소동'이라니\n",
            "정말 어른들 자리에 어울리네\n",
            "-----\n",
            "- HEY, THAT'S A GREAT MOVIE.\n",
            "그거 좋은 영화라고요\n",
            "-----\n",
            "AND IT SPOKE TO A GENERATION...\n",
            "한 시대를 풍미한...\n",
            "-----\n",
            "HEY, YOU BUSY?\n",
            "바빠요?\n",
            "-----\n",
            "- OKAY, HAVE YOU EVER FILED A PATENT BEFORE?\n",
            "특허법 서류\n",
            "작성해 본 적 있어요?\n",
            "-----\n",
            "I JUST GOT BACK FROM THIS MEETING WITH HARVEY AND HE WANTS ME TO FILE THIS PATENT,\n",
            "방금 회의하고 왔는데\n",
            "하비 선배가 시켰거든요\n",
            "-----\n",
            "BUT I HAVE NO IDEA WHAT THAT PAPERWORK LOOKS LIKE.\n",
            "근데 작성 방법을 모르겠어요\n",
            "-----\n",
            "SO...ANY HELP IN THIS ARENA WOULD BE RE--\n",
            "근데 작성 방법을 모르겠어요 도와주면 정말...\n",
            "-----\n",
            "DID HARVEY CALL YOU AND TELL YOU TO DO THAT?\n",
            "하비 선배가 전화로 시켰나요?\n",
            "-----\n",
            "- IF IT ISN'T THE GOLDEN BOY. - YOU'RE HARVEY'S PROJECT, RIGHT?\n",
            "기대주라던\n",
            "하비 직속 신임이군요?\n",
            "-----\n",
            "WHAT'S YOUR NAME? - MIKE, MIKE ROSS.\n",
            "-이름이 뭐죠?\n",
            "-마이크 로스요\n",
            "-----\n",
            "- GREGORY BOONE.\n",
            "그레고리 분입니다\n",
            "-----\n",
            "SO WHAT ARE YOU DOING HERE?\n",
            "여기서 뭐 해요?\n",
            "-----\n",
            "WEREN'T YOU SIGNING SOME BIG DEAL THIS AFTERNOON DOWNTOWN?\n",
            "오늘 오후 시내에서\n",
            "큰 건 계약하는 거 아니었어요?\n",
            "-----\n",
            "- WELL, EVIDENTLY I HAVEN'T EARNED THE PRIVILEGE YET.\n",
            "아직 자격이 없다네요\n",
            "-----\n",
            "- GET THE ADULT TABLE SPEECH?\n",
            "어른들 자리란 거죠?\n",
            "-----\n",
            "- YEAH, INSTEAD OF WATCHING THE DEAL CLOSE, I GET TO FILE THE PATENT.\n",
            "계약 체결 구경하는 대신에\n",
            "특허 서류나 작성하래요\n",
            "-----\n",
            "- YEAH, THOSE SUCK.\n",
            "맞아요, 그거 짜증 나죠\n",
            "-----\n",
            "- WAIT, YOU--YOU'VE DONE ONE OF THESE BEFORE?\n",
            "잠깐...\n",
            "해본 적 있으세요?\n",
            "-----\n",
            "- LIKE 100. WHY?\n",
            "수백 번 했죠\n",
            "왜요?\n",
            "-----\n",
            "NOW.\n",
            "이제 됐어요\n",
            "-----\n",
            "IT'S OKAY, YOU DON'T HAVE TO APOLOGIZE.\n",
            "괜찮아요\n",
            "사과 안 해도 돼요\n",
            "-----\n",
            "I TOOK CARE OF IT.\n",
            "알아서 다 했어요\n",
            "-----\n",
            "PATENT CLAIM.\n",
            "특허 신청?\n",
            "-----\n",
            "I NEGOTIATED A DEAL TO GET IT DONE.\n",
            "협상을 좀 해서\n",
            "다 처리했어요\n",
            "-----\n",
            "- WHAT ARE YOU TALKING ABOUT?\n",
            "무슨 소리예요?\n",
            "-----\n",
            "- GREGORY. HE AGREED TO FILE IT FOR ME.\n",
            "그레고리요\n",
            "대신해주기로 했어요\n",
            "-----\n",
            "AND ALL I HAVE TO DO IS PROOF HIS BAINBRIDGE BRIEFS.\n",
            "대신에 베인브리지 소송 건\n",
            "검토해주기로 했죠\n",
            "-----\n",
            "- AH. THAT EXPLAINS WHY HE SAID TO GIVE YOU THIS...\n",
            "왜 주라고 했는지 알겠네요\n",
            "-----\n",
            "AND WHY HE CALLED YOU A SUCKER.\n",
            "왜 멍청이라고 했는지도요\n",
            "-----\n",
            "- HE CALLED ME A WHAT NOW?\n",
            "뭐라고 했다고요?\n",
            "-----\n",
            "- MIKE ROSS, ALLOW ME TO INTRODUCE THE BAINBRIDGE BRIEFS.\n",
            "베인브리지 소송 건을\n",
            "소개해 드리겠습니다\n",
            "-----\n",
            "- WHICH STACK? - ALL OF THEM.\n",
            "-어느 쪽이죠?\n",
            "-전부 다요\n",
            "-----\n",
            "- WAIT A MINUTE, ARE THESE ALL--\n",
            "잠깐, 이게 전부...\n",
            "-----\n",
            "- STILL PRINTING. I'D GIVE IT ABOUT A HALF HOUR.\n",
            "-인쇄 중이고, 30분쯤 남았네요\n",
            "-아...\n",
            "-----\n",
            "- UM...THAT'S SIX PRINTERS, 23 PAGES A MINUTE, 30 MINUTES.\n",
            "-인쇄 중이고, 30분쯤 남았네요\n",
            "-아... 프린터 6대고, 1분당 23페이지에\n",
            "30분이면 4천140쪽이잖아요\n",
            "-----\n",
            "THAT'S 4,140 PAGES. - PLUS ALL THIS.\n",
            "프린터 6대고, 1분당 23페이지에\n",
            "30분이면 4천140쪽이잖아요 다음 협상 땐 상황을 정확히\n",
            "파악해 주셨으면 좋겠네요\n",
            "-----\n",
            "WHICH MEANS THE NEXT TIME YOU NEGOTIATE A DEAL, I WOULD SUGGEST TO GET YOUR FACTS STRAIGHT.\n",
            "다음 협상 땐 상황을 정확히\n",
            "파악해 주셨으면 좋겠네요\n",
            "-----\n",
            "- UH... I AM A SUCKER.\n",
            "나 멍청이 맞네요\n",
            "-----\n",
            "WHEN DID THAT HAPPEN?\n",
            "언제 이렇게 된 거지?\n",
            "-----\n",
            "♪ I'VE GOT TO DANCE ♪\n",
            "'슈츠'\n",
            "-----\n",
            "- NICE OF YOU TO JOIN US THIS MORNING.\n",
            "아침부터 보니까 좋네\n",
            "-----\n",
            "- FOR YOUR INFORMATION, MR. SUNSHINE,\n",
            "그냥 알고 계시라고\n",
            "드리는 말씀인데요\n",
            "-----\n",
            "I'VE BEEN HERE ALL NIGHT PROOFING. THAT BELONGS TO-- OKAY.\n",
            "밤새도록 서류 봤다고요\n",
            "그거 제 커피...\n",
            "-----\n",
            "- WHERE'S MY CONFIRMATION?\n",
            "-이런...\n",
            "-확인할 건 어디 있지?\n",
            "-----\n",
            "- WHAT? - THE FACT THAT YOU DON'T KNOW ALREADY CONCERNS ME.\n",
            "-네?\n",
            "-뭔지 모른다니 벌써 걱정이 되네\n",
            "-----\n",
            "- OH, YOU MEAN THE PATENT THING?\n",
            "특허 서류 어쩌고 그거요?\n",
            "-----\n",
            "- \"THE PATENT THING\" IS THE ONLY PIECE OF PAPER THAT'S HOLDING UP OUR DEAL FROM YESTERDAY.\n",
            "특허 서류 어쩌고 때문에\n",
            "엊저녁부터 진척이 안 되고 있어\n",
            "-----\n",
            "WHERE IS IT?\n",
            "어디 있어?\n",
            "-----\n",
            "- IT'S ON MY DESK.\n",
            "제 책상에요\n",
            "-----\n",
            "- WELL, IF IT'S NOT ON MINE BY THE TIME I GET BACK, I'M GONNA FEED YOU TO LOUIS.\n",
            "사무실 올라가서 책상에 없으면\n",
            "루이스 먹이가 될 각오해\n",
            "-----\n",
            "- NO PROBLEM.\n",
            "문제없어요\n",
            "-----\n",
            "PLEASE TELL ME THAT YOU FILED THAT-- - PATENT? NO, NOT YET.\n",
            "-제발 다 했다고 해줘요\n",
            "-특허요? 아직...\n",
            "-----\n",
            "- I GAVE IT TO YOU YESTERDAY.\n",
            "어제 줬잖아요\n",
            "-----\n",
            "- AT THE SAME TIME I GAVE YOU MY BAINBRIDGE BRIEFS,\n",
            "베인브리지 소송 건은\n",
            "다 끝내셨나요?\n",
            "-----\n",
            "WHICH YOU HAVEN'T FINISHED.\n",
            "베인브리지 소송 건은\n",
            "다 끝내셨나요? 밤새 했는데 반밖에 못 했어요\n",
            "-----\n",
            "- I WAS HERE ALL NIGHT, AND I BARELY GOT THROUGH HALF.\n",
            "밤새 했는데 반밖에 못 했어요\n",
            "-----\n",
            "- AND I WAS ON HOLD FOR ALMOST 11 MINUTES BEFORE I GAVE UP ON YOUR PATENT, SO WHAT'S YOUR POINT?\n",
            "그 일 때문에 11분이나\n",
            "지체하고 있네요, 요점이 뭐죠?\n",
            "-----\n"
          ],
          "name": "stdout"
        }
      ]
    },
    {
      "cell_type": "markdown",
      "metadata": {
        "id": "LCnOtc7wpPxr"
      },
      "source": [
        "- 노가다로 화면자막을 잡아주어야 하나?\n",
        "영문 에피소드 제목명이 드라마 제목명으로 pair가 된 것을 발견.\n",
        "\n",
        "♪ I'VE GOT TO DANCE ♪\n",
        "'슈츠'"
      ]
    },
    {
      "cell_type": "code",
      "metadata": {
        "id": "lf19ZxNr49Ax"
      },
      "source": [
        "# 한국어는 안 합치는 버전\n",
        "\n",
        "#lines_seen = set() # holds lines already seen\n",
        "previous = \"세 번 연속으로 이기셨네요 정확히는 네 번 연속이에요\"\n",
        "\n",
        "for i in range(1,len(all_data)):\n",
        "  #print(df.iloc[i,0]) # en\n",
        "\n",
        "  # 이전 문장이 현재 문장과 중복되는 부분이 있으면(뒷 문장이 더 김)\n",
        "  if previous in df.iloc[i,1]:\n",
        "  #if previous in df.loc[i,'kr']:    # 오류날 땐 이 버전으로 한번 돌리고 다시 iloc으로 돌리면 된다...\n",
        "    df.iloc[i,0] = df.iloc[i-1,0] + ' '+ df.iloc[i,0] # 뒷 문장에 내려서 합치고\n",
        "    df = df.drop(df.index[i-1]) # 이전 문장을 지운다\n",
        "    previous = df.iloc[i,1]\n",
        "  \n",
        "  # 현재 문장이 이전 문장과 중복되는 부분이 있으면 (이전 문장이 더 김)\n",
        "  if df.iloc[i,1] in previous:\n",
        "  #if df.loc[i,'kr'] in previous:    \n",
        "    df.iloc[i-1,0] = df.iloc[i-1,0] + ' '+ df.iloc[i,0] # 이전 문장에 올려서 합치고\n",
        "    df = df.drop(df.index[i]) # 현재 문장을 지운다\n",
        "    previous = df.iloc[i-1,1]\n",
        "\n",
        "  else: # 중복이 아니면\n",
        "    previous = df.iloc[i,1] # 현재 문장을 previous 로 만들고 루프 돌리기\n",
        "\n",
        "  if i>len(df):\n",
        "    print(f\"{i-1} 줄까지 실행 완료, 한국어 문장 = {df.iloc[i-1,1]}\")\n",
        "    break"
      ],
      "execution_count": null,
      "outputs": []
    },
    {
      "cell_type": "markdown",
      "metadata": {
        "id": "jjzQa38F7W6Z"
      },
      "source": [
        "- iloc 안 될땐 loc으로 고치고 에러날때 다시 iloc 돌리면 된다.."
      ]
    },
    {
      "cell_type": "markdown",
      "metadata": {
        "id": "Rej4hzGCgBGJ"
      },
      "source": [
        "- 왜 오류가 나냐면, 한번 돌리면 중복 문장이 줄어들고 df 길이가 바뀌는데, 그러면 인덱스 번호가 바뀌기 때문이다.\n",
        "reset_index를 같이 해줘야 하나??\n"
      ]
    },
    {
      "cell_type": "markdown",
      "metadata": {
        "id": "5NO6hmvVqMs5"
      },
      "source": [
        "무튼 오류가 나도 어느 정도 돌아간 상태이니 df.tail() 부분 확인하고, 괜찮으면 ok"
      ]
    },
    {
      "cell_type": "code",
      "metadata": {
        "colab": {
          "base_uri": "https://localhost:8080/",
          "height": 1000
        },
        "id": "nBOKs_vQmMVc",
        "outputId": "e72dc01c-325a-48b5-8cbe-61125b82f8e9"
      },
      "source": [
        "df[:50]"
      ],
      "execution_count": null,
      "outputs": [
        {
          "output_type": "execute_result",
          "data": {
            "text/html": [
              "<div>\n",
              "<style scoped>\n",
              "    .dataframe tbody tr th:only-of-type {\n",
              "        vertical-align: middle;\n",
              "    }\n",
              "\n",
              "    .dataframe tbody tr th {\n",
              "        vertical-align: top;\n",
              "    }\n",
              "\n",
              "    .dataframe thead th {\n",
              "        text-align: right;\n",
              "    }\n",
              "</style>\n",
              "<table border=\"1\" class=\"dataframe\">\n",
              "  <thead>\n",
              "    <tr style=\"text-align: right;\">\n",
              "      <th></th>\n",
              "      <th>en</th>\n",
              "      <th>kr</th>\n",
              "    </tr>\n",
              "  </thead>\n",
              "  <tbody>\n",
              "    <tr>\n",
              "      <th>0</th>\n",
              "      <td>that would be four , actually . oh , god . com...</td>\n",
              "      <td>세 번 연속으로 이기셨네요 정확히는 네 번 연속이에요</td>\n",
              "    </tr>\n",
              "    <tr>\n",
              "      <th>2</th>\n",
              "      <td>what do you say , we go five outta nine ?</td>\n",
              "      <td>이제 9판 5승제로 갈까요 ?</td>\n",
              "    </tr>\n",
              "    <tr>\n",
              "      <th>3</th>\n",
              "      <td>so you can keep abusing me ? no , thank you . ...</td>\n",
              "      <td>계속 갖고 노시려고요 ? 됐어요 , 그만할래요</td>\n",
              "    </tr>\n",
              "    <tr>\n",
              "      <th>4</th>\n",
              "      <td>oh , come on . i'll spot you three .</td>\n",
              "      <td>세 판 핸디캡 드릴게요</td>\n",
              "    </tr>\n",
              "    <tr>\n",
              "      <th>5</th>\n",
              "      <td>game time's over , wyatt . they're here . they...</td>\n",
              "      <td>와이엇 씨 , 그만 놀고 가시죠 왔나요 ?</td>\n",
              "    </tr>\n",
              "    <tr>\n",
              "      <th>6</th>\n",
              "      <td>you can set up in the conference room . yeah ....</td>\n",
              "      <td>회의실 가서 준비하도록 하세요 아뇨 , 저기 . . .</td>\n",
              "    </tr>\n",
              "    <tr>\n",
              "      <th>7</th>\n",
              "      <td>get set up in the conference room .</td>\n",
              "      <td>회의실 가셔야죠</td>\n",
              "    </tr>\n",
              "    <tr>\n",
              "      <th>8</th>\n",
              "      <td>you did let him win , right ? it wasn't easy .</td>\n",
              "      <td>져준 거 맞지 ? 쉽지 않았어요</td>\n",
              "    </tr>\n",
              "    <tr>\n",
              "      <th>9</th>\n",
              "      <td>the guy has the coordination of a two year old .</td>\n",
              "      <td>2살짜리 같더라고요</td>\n",
              "    </tr>\n",
              "    <tr>\n",
              "      <th>11</th>\n",
              "      <td>i know . the last time these venture capitalis...</td>\n",
              "      <td>지난번엔 복싱했었어 이기게 해 주려고 내 얼굴을 때리다시피 했다니까</td>\n",
              "    </tr>\n",
              "    <tr>\n",
              "      <th>14</th>\n",
              "      <td>i don't get it . i mean , if he's such a geniu...</td>\n",
              "      <td>저런 천재가 왜 투자자들 앞에선 벌벌 떠는지 모르겠어요 포켓형 위성 휴대폰 개발에 ...</td>\n",
              "    </tr>\n",
              "    <tr>\n",
              "      <th>18</th>\n",
              "      <td>the prototype . . . i can't find it . i don't ...</td>\n",
              "      <td>제품 원형 샘플 ! 어디 있는지 못 찾겠어요 이거요 ?</td>\n",
              "    </tr>\n",
              "    <tr>\n",
              "      <th>20</th>\n",
              "      <td>i don't know what i'd do without you .</td>\n",
              "      <td>변호사님 아니었으면 . . .</td>\n",
              "    </tr>\n",
              "    <tr>\n",
              "      <th>21</th>\n",
              "      <td>fail miserably . i would .</td>\n",
              "      <td>완전 망했겠죠 맞아요</td>\n",
              "    </tr>\n",
              "    <tr>\n",
              "      <th>22</th>\n",
              "      <td>is that the . . . $20 million prototype , yes .</td>\n",
              "      <td>그게 . . . 2천만 달러짜리 원형이야</td>\n",
              "    </tr>\n",
              "    <tr>\n",
              "      <th>23</th>\n",
              "      <td>and you don't even get to look at this bad boy...</td>\n",
              "      <td>계약 성사 전까지는 얼씬도 하지 마</td>\n",
              "    </tr>\n",
              "    <tr>\n",
              "      <th>24</th>\n",
              "      <td>wow , they're like storm troopers .</td>\n",
              "      <td>와 ! 무슨 돌격대원들이네요</td>\n",
              "    </tr>\n",
              "    <tr>\n",
              "      <th>26</th>\n",
              "      <td>storm troopers don't write checks . now all yo...</td>\n",
              "      <td>수표를 쓰는 돌격대원들은 없겠죠 저기로 걸어 들어가서 작동 시연만 하시면 됩니다</td>\n",
              "    </tr>\n",
              "    <tr>\n",
              "      <th>29</th>\n",
              "      <td>right , and suntech digital will be a new forc...</td>\n",
              "      <td>선테크 디지털이 국제 통신의 새로운 주자가 되는 거죠 본때를 보여주자고요 !</td>\n",
              "    </tr>\n",
              "    <tr>\n",
              "      <th>31</th>\n",
              "      <td>wait , wait . where do you think you're going ?</td>\n",
              "      <td>잠깐 , 어디 가려고 ?</td>\n",
              "    </tr>\n",
              "    <tr>\n",
              "      <th>32</th>\n",
              "      <td>into the room with the people .</td>\n",
              "      <td>회의실 안으로요 사람들이랑 같이 . . .</td>\n",
              "    </tr>\n",
              "    <tr>\n",
              "      <th>33</th>\n",
              "      <td>wrong , that's the adult table in there .</td>\n",
              "      <td>안 돼 여긴 어른들 자리야</td>\n",
              "    </tr>\n",
              "    <tr>\n",
              "      <th>34</th>\n",
              "      <td>and you haven't earned the privilege yet .</td>\n",
              "      <td>아직은 자격이 안 돼</td>\n",
              "    </tr>\n",
              "    <tr>\n",
              "      <th>35</th>\n",
              "      <td>but i played air hockey with him you need to g...</td>\n",
              "      <td>에어 하키 게임도 했잖아요 사무실 가서 특허 서류 만들어</td>\n",
              "    </tr>\n",
              "    <tr>\n",
              "      <th>36</th>\n",
              "      <td>a patent ? i don't know how to file a patent .</td>\n",
              "      <td>특허요 ? 특허 신청 서류 작성할 줄 모르는데요</td>\n",
              "    </tr>\n",
              "    <tr>\n",
              "      <th>37</th>\n",
              "      <td>figure it out . can't we do that after</td>\n",
              "      <td>알아내 이거 끝나고 하면 . . .</td>\n",
              "    </tr>\n",
              "    <tr>\n",
              "      <th>38</th>\n",
              "      <td>no , and you keep talking , i'm gonna start bi...</td>\n",
              "      <td>고집부리면 수임료 청구할 거야</td>\n",
              "    </tr>\n",
              "    <tr>\n",
              "      <th>39</th>\n",
              "      <td>and my time runs $1 , 000 an hour .</td>\n",
              "      <td>시간당 1천 달러야</td>\n",
              "    </tr>\n",
              "    <tr>\n",
              "      <th>40</th>\n",
              "      <td>but isn't this our time , mr . hand ?</td>\n",
              "      <td>우리 함께할 때 아닌가요 ?</td>\n",
              "    </tr>\n",
              "    <tr>\n",
              "      <th>41</th>\n",
              "      <td>i stand corrected .</td>\n",
              "      <td>정정할게</td>\n",
              "    </tr>\n",
              "    <tr>\n",
              "      <th>42</th>\n",
              "      <td>your fast times at ridgemont high quote , that...</td>\n",
              "      <td>리치몬드 연애 소동 이라니 정말 어른들 자리에 어울리네</td>\n",
              "    </tr>\n",
              "    <tr>\n",
              "      <th>43</th>\n",
              "      <td>hey , that's a great movie .</td>\n",
              "      <td>그거 좋은 영화라고요</td>\n",
              "    </tr>\n",
              "    <tr>\n",
              "      <th>44</th>\n",
              "      <td>and it spoke to a generation . . .</td>\n",
              "      <td>한 시대를 풍미한 . . .</td>\n",
              "    </tr>\n",
              "    <tr>\n",
              "      <th>45</th>\n",
              "      <td>hey , you busy ?</td>\n",
              "      <td>바빠요 ?</td>\n",
              "    </tr>\n",
              "    <tr>\n",
              "      <th>46</th>\n",
              "      <td>okay , have you ever filed a patent before ?</td>\n",
              "      <td>특허법 서류 작성해 본 적 있어요 ?</td>\n",
              "    </tr>\n",
              "    <tr>\n",
              "      <th>47</th>\n",
              "      <td>i just got back from this meeting with harvey ...</td>\n",
              "      <td>방금 회의하고 왔는데 하비 선배가 시켰거든요</td>\n",
              "    </tr>\n",
              "    <tr>\n",
              "      <th>49</th>\n",
              "      <td>but i have no idea what that paperwork looks l...</td>\n",
              "      <td>근데 작성 방법을 모르겠어요 도와주면 정말 . . .</td>\n",
              "    </tr>\n",
              "    <tr>\n",
              "      <th>51</th>\n",
              "      <td>if it isn't the golden boy . you're harvey's p...</td>\n",
              "      <td>기대주라던 하비 직속 신임이군요 ?</td>\n",
              "    </tr>\n",
              "    <tr>\n",
              "      <th>52</th>\n",
              "      <td>what's your name ? mike , mike ross .</td>\n",
              "      <td>이름이 뭐죠 ? 마이크 로스요</td>\n",
              "    </tr>\n",
              "    <tr>\n",
              "      <th>53</th>\n",
              "      <td>gregory boone .</td>\n",
              "      <td>그레고리 분입니다</td>\n",
              "    </tr>\n",
              "    <tr>\n",
              "      <th>54</th>\n",
              "      <td>so what are you doing here ?</td>\n",
              "      <td>여기서 뭐 해요 ?</td>\n",
              "    </tr>\n",
              "    <tr>\n",
              "      <th>55</th>\n",
              "      <td>weren't you signing some big deal this afterno...</td>\n",
              "      <td>오늘 오후 시내에서 큰 건 계약하는 거 아니었어요 ?</td>\n",
              "    </tr>\n",
              "    <tr>\n",
              "      <th>56</th>\n",
              "      <td>well , evidently i haven't earned the privileg...</td>\n",
              "      <td>아직 자격이 없다네요</td>\n",
              "    </tr>\n",
              "    <tr>\n",
              "      <th>57</th>\n",
              "      <td>get the adult table speech ?</td>\n",
              "      <td>어른들 자리란 거죠 ?</td>\n",
              "    </tr>\n",
              "    <tr>\n",
              "      <th>58</th>\n",
              "      <td>yeah , instead of watching the deal close , i ...</td>\n",
              "      <td>계약 체결 구경하는 대신에 특허 서류나 작성하래요</td>\n",
              "    </tr>\n",
              "    <tr>\n",
              "      <th>59</th>\n",
              "      <td>yeah , those suck .</td>\n",
              "      <td>맞아요 , 그거 짜증 나죠</td>\n",
              "    </tr>\n",
              "    <tr>\n",
              "      <th>60</th>\n",
              "      <td>wait , you you've done one of these before ?</td>\n",
              "      <td>잠깐 . . . 해본 적 있으세요 ?</td>\n",
              "    </tr>\n",
              "    <tr>\n",
              "      <th>61</th>\n",
              "      <td>like 100 . why ?</td>\n",
              "      <td>수백 번 했죠 왜요 ?</td>\n",
              "    </tr>\n",
              "    <tr>\n",
              "      <th>62</th>\n",
              "      <td>now .</td>\n",
              "      <td>이제 됐어요</td>\n",
              "    </tr>\n",
              "    <tr>\n",
              "      <th>63</th>\n",
              "      <td>it's okay , you don't have to apologize .</td>\n",
              "      <td>괜찮아요 사과 안 해도 돼요</td>\n",
              "    </tr>\n",
              "  </tbody>\n",
              "</table>\n",
              "</div>"
            ],
            "text/plain": [
              "                                                   en                                                 kr\n",
              "0   that would be four , actually . oh , god . com...                      세 번 연속으로 이기셨네요 정확히는 네 번 연속이에요\n",
              "2           what do you say , we go five outta nine ?                                   이제 9판 5승제로 갈까요 ?\n",
              "3   so you can keep abusing me ? no , thank you . ...                          계속 갖고 노시려고요 ? 됐어요 , 그만할래요\n",
              "4                oh , come on . i'll spot you three .                                       세 판 핸디캡 드릴게요\n",
              "5   game time's over , wyatt . they're here . they...                            와이엇 씨 , 그만 놀고 가시죠 왔나요 ?\n",
              "6   you can set up in the conference room . yeah ....                     회의실 가서 준비하도록 하세요 아뇨 , 저기 . . .\n",
              "7                 get set up in the conference room .                                           회의실 가셔야죠\n",
              "8      you did let him win , right ? it wasn't easy .                                  져준 거 맞지 ? 쉽지 않았어요\n",
              "9    the guy has the coordination of a two year old .                                         2살짜리 같더라고요\n",
              "11  i know . the last time these venture capitalis...              지난번엔 복싱했었어 이기게 해 주려고 내 얼굴을 때리다시피 했다니까\n",
              "14  i don't get it . i mean , if he's such a geniu...  저런 천재가 왜 투자자들 앞에선 벌벌 떠는지 모르겠어요 포켓형 위성 휴대폰 개발에 ...\n",
              "18  the prototype . . . i can't find it . i don't ...                     제품 원형 샘플 ! 어디 있는지 못 찾겠어요 이거요 ?\n",
              "20             i don't know what i'd do without you .                                   변호사님 아니었으면 . . .\n",
              "21                         fail miserably . i would .                                        완전 망했겠죠 맞아요\n",
              "22    is that the . . . $20 million prototype , yes .                             그게 . . . 2천만 달러짜리 원형이야\n",
              "23  and you don't even get to look at this bad boy...                                계약 성사 전까지는 얼씬도 하지 마\n",
              "24                wow , they're like storm troopers .                                    와 ! 무슨 돌격대원들이네요\n",
              "26  storm troopers don't write checks . now all yo...       수표를 쓰는 돌격대원들은 없겠죠 저기로 걸어 들어가서 작동 시연만 하시면 됩니다\n",
              "29  right , and suntech digital will be a new forc...         선테크 디지털이 국제 통신의 새로운 주자가 되는 거죠 본때를 보여주자고요 !\n",
              "31    wait , wait . where do you think you're going ?                                      잠깐 , 어디 가려고 ?\n",
              "32                    into the room with the people .                            회의실 안으로요 사람들이랑 같이 . . .\n",
              "33          wrong , that's the adult table in there .                                     안 돼 여긴 어른들 자리야\n",
              "34         and you haven't earned the privilege yet .                                        아직은 자격이 안 돼\n",
              "35  but i played air hockey with him you need to g...                    에어 하키 게임도 했잖아요 사무실 가서 특허 서류 만들어\n",
              "36     a patent ? i don't know how to file a patent .                         특허요 ? 특허 신청 서류 작성할 줄 모르는데요\n",
              "37             figure it out . can't we do that after                                알아내 이거 끝나고 하면 . . .\n",
              "38  no , and you keep talking , i'm gonna start bi...                                   고집부리면 수임료 청구할 거야\n",
              "39                and my time runs $1 , 000 an hour .                                         시간당 1천 달러야\n",
              "40              but isn't this our time , mr . hand ?                                    우리 함께할 때 아닌가요 ?\n",
              "41                                i stand corrected .                                               정정할게\n",
              "42  your fast times at ridgemont high quote , that...                     리치몬드 연애 소동 이라니 정말 어른들 자리에 어울리네\n",
              "43                       hey , that's a great movie .                                        그거 좋은 영화라고요\n",
              "44                 and it spoke to a generation . . .                                    한 시대를 풍미한 . . .\n",
              "45                                   hey , you busy ?                                              바빠요 ?\n",
              "46       okay , have you ever filed a patent before ?                               특허법 서류 작성해 본 적 있어요 ?\n",
              "47  i just got back from this meeting with harvey ...                           방금 회의하고 왔는데 하비 선배가 시켰거든요\n",
              "49  but i have no idea what that paperwork looks l...                      근데 작성 방법을 모르겠어요 도와주면 정말 . . .\n",
              "51  if it isn't the golden boy . you're harvey's p...                                기대주라던 하비 직속 신임이군요 ?\n",
              "52              what's your name ? mike , mike ross .                                   이름이 뭐죠 ? 마이크 로스요\n",
              "53                                    gregory boone .                                          그레고리 분입니다\n",
              "54                       so what are you doing here ?                                         여기서 뭐 해요 ?\n",
              "55  weren't you signing some big deal this afterno...                      오늘 오후 시내에서 큰 건 계약하는 거 아니었어요 ?\n",
              "56  well , evidently i haven't earned the privileg...                                        아직 자격이 없다네요\n",
              "57                       get the adult table speech ?                                       어른들 자리란 거죠 ?\n",
              "58  yeah , instead of watching the deal close , i ...                        계약 체결 구경하는 대신에 특허 서류나 작성하래요\n",
              "59                                yeah , those suck .                                     맞아요 , 그거 짜증 나죠\n",
              "60       wait , you you've done one of these before ?                               잠깐 . . . 해본 적 있으세요 ?\n",
              "61                                   like 100 . why ?                                       수백 번 했죠 왜요 ?\n",
              "62                                              now .                                             이제 됐어요\n",
              "63          it's okay , you don't have to apologize .                                    괜찮아요 사과 안 해도 돼요"
            ]
          },
          "metadata": {
            "tags": []
          },
          "execution_count": 105
        }
      ]
    },
    {
      "cell_type": "code",
      "metadata": {
        "colab": {
          "base_uri": "https://localhost:8080/",
          "height": 1000
        },
        "id": "JYcgMon__Hpc",
        "outputId": "cecd7b9d-8ee5-42eb-c573-338deb299f02"
      },
      "source": [
        "df.tail(50)"
      ],
      "execution_count": null,
      "outputs": [
        {
          "output_type": "execute_result",
          "data": {
            "text/html": [
              "<div>\n",
              "<style scoped>\n",
              "    .dataframe tbody tr th:only-of-type {\n",
              "        vertical-align: middle;\n",
              "    }\n",
              "\n",
              "    .dataframe tbody tr th {\n",
              "        vertical-align: top;\n",
              "    }\n",
              "\n",
              "    .dataframe thead th {\n",
              "        text-align: right;\n",
              "    }\n",
              "</style>\n",
              "<table border=\"1\" class=\"dataframe\">\n",
              "  <thead>\n",
              "    <tr style=\"text-align: right;\">\n",
              "      <th></th>\n",
              "      <th>en</th>\n",
              "      <th>kr</th>\n",
              "    </tr>\n",
              "  </thead>\n",
              "  <tbody>\n",
              "    <tr>\n",
              "      <th>34035</th>\n",
              "      <td>okay .</td>\n",
              "      <td>그래</td>\n",
              "    </tr>\n",
              "    <tr>\n",
              "      <th>34036</th>\n",
              "      <td>i m going to get something for my stomach .</td>\n",
              "      <td>먹을 것 좀 사 올게요</td>\n",
              "    </tr>\n",
              "    <tr>\n",
              "      <th>34037</th>\n",
              "      <td>come on , swipe .</td>\n",
              "      <td>제발 긁혀라</td>\n",
              "    </tr>\n",
              "    <tr>\n",
              "      <th>34038</th>\n",
              "      <td>swipe !</td>\n",
              "      <td>긁혀라 !</td>\n",
              "    </tr>\n",
              "    <tr>\n",
              "      <th>34039</th>\n",
              "      <td>mitchell , i need your help .</td>\n",
              "      <td>미첼 , 좀 도와줘</td>\n",
              "    </tr>\n",
              "    <tr>\n",
              "      <th>34040</th>\n",
              "      <td>it won t swipe , and i m in no condition to se...</td>\n",
              "      <td>카드가 안 긁혀 , 나 지금 직원 상대할 기분 아니거든</td>\n",
              "    </tr>\n",
              "    <tr>\n",
              "      <th>34042</th>\n",
              "      <td>mitchell . mitchell ? mitchell ? mitch mitchell !</td>\n",
              "      <td>미첼</td>\n",
              "    </tr>\n",
              "    <tr>\n",
              "      <th>34044</th>\n",
              "      <td>where are you going ?</td>\n",
              "      <td>어디 가 ?</td>\n",
              "    </tr>\n",
              "    <tr>\n",
              "      <th>34045</th>\n",
              "      <td>i m just sick of it , cam .</td>\n",
              "      <td>지긋지긋해</td>\n",
              "    </tr>\n",
              "    <tr>\n",
              "      <th>34047</th>\n",
              "      <td>mitchell , come back here and talk to me . the...</td>\n",
              "      <td>미첼 , 이리 와서 나랑 얘기해 여긴 코요테가 있어 마약 중독자도 !</td>\n",
              "    </tr>\n",
              "    <tr>\n",
              "      <th>34049</th>\n",
              "      <td>every time someone says that we re getting a b...</td>\n",
              "      <td>누군가 우리에게 아기 준다고 할 때마다 난 꿈에 부풀었는데</td>\n",
              "    </tr>\n",
              "    <tr>\n",
              "      <th>34050</th>\n",
              "      <td>and then and then , when it all falls apart , i</td>\n",
              "      <td>난 꿈에 부풀었는데 항상 모든 게 수포로 돌아가</td>\n",
              "    </tr>\n",
              "    <tr>\n",
              "      <th>34051</th>\n",
              "      <td>we just have to go through the whole thing aga...</td>\n",
              "      <td>그럼 처음부터 다시 시작해야 해</td>\n",
              "    </tr>\n",
              "    <tr>\n",
              "      <th>34052</th>\n",
              "      <td>and then meanwhile , the child that we do have...</td>\n",
              "      <td>정작 우리 애 발표회에는 가지도 못하고 !</td>\n",
              "    </tr>\n",
              "    <tr>\n",
              "      <th>34053</th>\n",
              "      <td>i know .</td>\n",
              "      <td>알아</td>\n",
              "    </tr>\n",
              "    <tr>\n",
              "      <th>34054</th>\n",
              "      <td>i m as frustrated as you are . are you ?</td>\n",
              "      <td>나도 너만큼 속상해 정말 ?</td>\n",
              "    </tr>\n",
              "    <tr>\n",
              "      <th>34055</th>\n",
              "      <td>because i don t i don t know how much more of ...</td>\n",
              "      <td>난 더는 못 견딜 것 같아 너무 지쳤어</td>\n",
              "    </tr>\n",
              "    <tr>\n",
              "      <th>34056</th>\n",
              "      <td>and and just disappointed .</td>\n",
              "      <td>실망했고</td>\n",
              "    </tr>\n",
              "    <tr>\n",
              "      <th>34057</th>\n",
              "      <td>i m just tired .</td>\n",
              "      <td>지쳤어</td>\n",
              "    </tr>\n",
              "    <tr>\n",
              "      <th>34058</th>\n",
              "      <td>let s take a break .</td>\n",
              "      <td>좀 쉬자</td>\n",
              "    </tr>\n",
              "    <tr>\n",
              "      <th>34059</th>\n",
              "      <td>really ? it must be exhausting , always keepin...</td>\n",
              "      <td>정말 ? 그동안 우리 둘을 보살피느라 힘들었을 거야</td>\n",
              "    </tr>\n",
              "    <tr>\n",
              "      <th>34061</th>\n",
              "      <td>and i m tired too .</td>\n",
              "      <td>나도 지쳤어</td>\n",
              "    </tr>\n",
              "    <tr>\n",
              "      <th>34062</th>\n",
              "      <td>i think i m lying on a rock .</td>\n",
              "      <td>나 돌 위에 누운 것 같아</td>\n",
              "    </tr>\n",
              "    <tr>\n",
              "      <th>34063</th>\n",
              "      <td>i m lying next to my rock .</td>\n",
              "      <td>난 내 반석 옆에 누워 있어</td>\n",
              "    </tr>\n",
              "    <tr>\n",
              "      <th>34064</th>\n",
              "      <td>there s certain moments in life that you never...</td>\n",
              "      <td>평생 잊지 못할 순간이 있죠</td>\n",
              "    </tr>\n",
              "    <tr>\n",
              "      <th>34065</th>\n",
              "      <td>like when i held manny in my arms for the very...</td>\n",
              "      <td>처음으로 매니를 제 품에 안았을 때처럼요</td>\n",
              "    </tr>\n",
              "    <tr>\n",
              "      <th>34066</th>\n",
              "      <td>i was nervous . i didn t know what i was doing .</td>\n",
              "      <td>전 불안했어요 도무지 자신이 없었죠</td>\n",
              "    </tr>\n",
              "    <tr>\n",
              "      <th>34067</th>\n",
              "      <td>what do you think ? you guys look amazing .</td>\n",
              "      <td>어때요 ? 둘 다 정말 멋지구나</td>\n",
              "    </tr>\n",
              "    <tr>\n",
              "      <th>34068</th>\n",
              "      <td>oh , my little girl .</td>\n",
              "      <td>얘야 !</td>\n",
              "    </tr>\n",
              "    <tr>\n",
              "      <th>34069</th>\n",
              "      <td>i was so excited to see him grow up . have fun...</td>\n",
              "      <td>전 매니가 크는 걸 보며 행복했죠 재밌게 놀다 와</td>\n",
              "    </tr>\n",
              "    <tr>\n",
              "      <th>34070</th>\n",
              "      <td>she s asleep .</td>\n",
              "      <td>잠들었어</td>\n",
              "    </tr>\n",
              "    <tr>\n",
              "      <th>34071</th>\n",
              "      <td>i tell you , kid , i m too old for this .</td>\n",
              "      <td>난 늙어서 이 짓 못 하겠다</td>\n",
              "    </tr>\n",
              "    <tr>\n",
              "      <th>34072</th>\n",
              "      <td>you and me both .</td>\n",
              "      <td>저도 그래요</td>\n",
              "    </tr>\n",
              "    <tr>\n",
              "      <th>34073</th>\n",
              "      <td>and the more he becomes the little man i know ...</td>\n",
              "      <td>매니가 점점 더 커갈수록</td>\n",
              "    </tr>\n",
              "    <tr>\n",
              "      <th>34074</th>\n",
              "      <td>the more i know i would do it all over again .</td>\n",
              "      <td>그 과정을 다시 겪고 싶어졌어요</td>\n",
              "    </tr>\n",
              "    <tr>\n",
              "      <th>34075</th>\n",
              "      <td>which is good , cause i m going to do it all o...</td>\n",
              "      <td>다행이에요 다시 겪게 됐거든요</td>\n",
              "    </tr>\n",
              "    <tr>\n",
              "      <th>34076</th>\n",
              "      <td>turns out that i wasn t carsick .</td>\n",
              "      <td>차멀미가 아니더라고요</td>\n",
              "    </tr>\n",
              "    <tr>\n",
              "      <th>34077</th>\n",
              "      <td>i m pregnant .</td>\n",
              "      <td>저 임신했어요</td>\n",
              "    </tr>\n",
              "    <tr>\n",
              "      <th>34078</th>\n",
              "      <td>okay , luke , let s see what else you ve been ...</td>\n",
              "      <td>좋아 , 또 뭘 숨기고 있었지 ?</td>\n",
              "    </tr>\n",
              "    <tr>\n",
              "      <th>34079</th>\n",
              "      <td>okay , fine . here s a bill for the birdhouse ...</td>\n",
              "      <td>좋아요 제가 목장에서 터뜨린 새집 청구서예요</td>\n",
              "    </tr>\n",
              "    <tr>\n",
              "      <th>34080</th>\n",
              "      <td>you blew up a birdhouse ? let s hold all quest...</td>\n",
              "      <td>새집을 터뜨렸어 ? 다 끝나면 질문하세요</td>\n",
              "    </tr>\n",
              "    <tr>\n",
              "      <th>34081</th>\n",
              "      <td>here s that jury duty thing for the day we wen...</td>\n",
              "      <td>디즈니랜드에 갔던 날 출석하라던 아빠 배심원 출석 통지서예요</td>\n",
              "    </tr>\n",
              "    <tr>\n",
              "      <th>34082</th>\n",
              "      <td>i didn t want you to cancel the trip . good ca...</td>\n",
              "      <td>디즈니랜드에 가고 싶었어요 잘했다</td>\n",
              "    </tr>\n",
              "    <tr>\n",
              "      <th>34083</th>\n",
              "      <td>here s a coupon for a gun range for mom .</td>\n",
              "      <td>이건 엄마 사격장 쿠폰이에요</td>\n",
              "    </tr>\n",
              "    <tr>\n",
              "      <th>34084</th>\n",
              "      <td>i don t know what that s about . i don t know ...</td>\n",
              "      <td>뭔지 모르겠어요 나도 몰라</td>\n",
              "    </tr>\n",
              "    <tr>\n",
              "      <th>34085</th>\n",
              "      <td>report card . mm hmm . report card .</td>\n",
              "      <td>성적표</td>\n",
              "    </tr>\n",
              "    <tr>\n",
              "      <th>34086</th>\n",
              "      <td>notice from the city to take down the tree hou...</td>\n",
              "      <td>나무 위 집을 계속 놔둘 거면</td>\n",
              "    </tr>\n",
              "    <tr>\n",
              "      <th>34087</th>\n",
              "      <td>or be fined $25 a day .</td>\n",
              "      <td>하루 25달러씩 벌금 내라는 편지요</td>\n",
              "    </tr>\n",
              "    <tr>\n",
              "      <th>34088</th>\n",
              "      <td>report card .</td>\n",
              "      <td>성적표</td>\n",
              "    </tr>\n",
              "    <tr>\n",
              "      <th>34089</th>\n",
              "      <td>red light ticket from when me and manny stole ...</td>\n",
              "      <td>저랑 매니가 몰래 차 탔을 때 신호 위반 딱지 . . .</td>\n",
              "    </tr>\n",
              "  </tbody>\n",
              "</table>\n",
              "</div>"
            ],
            "text/plain": [
              "                                                      en                                      kr\n",
              "34035                                             okay .                                      그래\n",
              "34036        i m going to get something for my stomach .                            먹을 것 좀 사 올게요\n",
              "34037                                  come on , swipe .                                  제발 긁혀라\n",
              "34038                                            swipe !                                   긁혀라 !\n",
              "34039                      mitchell , i need your help .                              미첼 , 좀 도와줘\n",
              "34040  it won t swipe , and i m in no condition to se...          카드가 안 긁혀 , 나 지금 직원 상대할 기분 아니거든\n",
              "34042  mitchell . mitchell ? mitchell ? mitch mitchell !                                      미첼\n",
              "34044                              where are you going ?                                  어디 가 ?\n",
              "34045                        i m just sick of it , cam .                                   지긋지긋해\n",
              "34047  mitchell , come back here and talk to me . the...  미첼 , 이리 와서 나랑 얘기해 여긴 코요테가 있어 마약 중독자도 !\n",
              "34049  every time someone says that we re getting a b...        누군가 우리에게 아기 준다고 할 때마다 난 꿈에 부풀었는데\n",
              "34050    and then and then , when it all falls apart , i              난 꿈에 부풀었는데 항상 모든 게 수포로 돌아가\n",
              "34051  we just have to go through the whole thing aga...                       그럼 처음부터 다시 시작해야 해\n",
              "34052  and then meanwhile , the child that we do have...                 정작 우리 애 발표회에는 가지도 못하고 !\n",
              "34053                                           i know .                                      알아\n",
              "34054           i m as frustrated as you are . are you ?                         나도 너만큼 속상해 정말 ?\n",
              "34055  because i don t i don t know how much more of ...                   난 더는 못 견딜 것 같아 너무 지쳤어\n",
              "34056                        and and just disappointed .                                    실망했고\n",
              "34057                                   i m just tired .                                     지쳤어\n",
              "34058                               let s take a break .                                    좀 쉬자\n",
              "34059  really ? it must be exhausting , always keepin...            정말 ? 그동안 우리 둘을 보살피느라 힘들었을 거야\n",
              "34061                                and i m tired too .                                  나도 지쳤어\n",
              "34062                      i think i m lying on a rock .                          나 돌 위에 누운 것 같아\n",
              "34063                        i m lying next to my rock .                         난 내 반석 옆에 누워 있어\n",
              "34064  there s certain moments in life that you never...                         평생 잊지 못할 순간이 있죠\n",
              "34065  like when i held manny in my arms for the very...                  처음으로 매니를 제 품에 안았을 때처럼요\n",
              "34066   i was nervous . i didn t know what i was doing .                     전 불안했어요 도무지 자신이 없었죠\n",
              "34067        what do you think ? you guys look amazing .                       어때요 ? 둘 다 정말 멋지구나\n",
              "34068                              oh , my little girl .                                    얘야 !\n",
              "34069  i was so excited to see him grow up . have fun...             전 매니가 크는 걸 보며 행복했죠 재밌게 놀다 와\n",
              "34070                                     she s asleep .                                    잠들었어\n",
              "34071          i tell you , kid , i m too old for this .                         난 늙어서 이 짓 못 하겠다\n",
              "34072                                  you and me both .                                  저도 그래요\n",
              "34073  and the more he becomes the little man i know ...                           매니가 점점 더 커갈수록\n",
              "34074     the more i know i would do it all over again .                       그 과정을 다시 겪고 싶어졌어요\n",
              "34075  which is good , cause i m going to do it all o...                        다행이에요 다시 겪게 됐거든요\n",
              "34076                  turns out that i wasn t carsick .                             차멀미가 아니더라고요\n",
              "34077                                     i m pregnant .                                 저 임신했어요\n",
              "34078  okay , luke , let s see what else you ve been ...                      좋아 , 또 뭘 숨기고 있었지 ?\n",
              "34079  okay , fine . here s a bill for the birdhouse ...                좋아요 제가 목장에서 터뜨린 새집 청구서예요\n",
              "34080  you blew up a birdhouse ? let s hold all quest...                  새집을 터뜨렸어 ? 다 끝나면 질문하세요\n",
              "34081  here s that jury duty thing for the day we wen...       디즈니랜드에 갔던 날 출석하라던 아빠 배심원 출석 통지서예요\n",
              "34082  i didn t want you to cancel the trip . good ca...                      디즈니랜드에 가고 싶었어요 잘했다\n",
              "34083          here s a coupon for a gun range for mom .                         이건 엄마 사격장 쿠폰이에요\n",
              "34084  i don t know what that s about . i don t know ...                          뭔지 모르겠어요 나도 몰라\n",
              "34085               report card . mm hmm . report card .                                     성적표\n",
              "34086  notice from the city to take down the tree hou...                        나무 위 집을 계속 놔둘 거면\n",
              "34087                            or be fined $25 a day .                     하루 25달러씩 벌금 내라는 편지요\n",
              "34088                                      report card .                                     성적표\n",
              "34089  red light ticket from when me and manny stole ...         저랑 매니가 몰래 차 탔을 때 신호 위반 딱지 . . ."
            ]
          },
          "metadata": {
            "tags": []
          },
          "execution_count": 101
        }
      ]
    },
    {
      "cell_type": "code",
      "metadata": {
        "colab": {
          "base_uri": "https://localhost:8080/",
          "height": 36
        },
        "id": "8mf-oCcof1n5",
        "outputId": "2b5b4370-4bbe-4338-aff5-bd731a13506b"
      },
      "source": [
        "df.loc[34089,'en'] # 이렇게 해도 저 인덱스 번호로 호출 가능. iloc은 안됨."
      ],
      "execution_count": null,
      "outputs": [
        {
          "output_type": "execute_result",
          "data": {
            "application/vnd.google.colaboratory.intrinsic+json": {
              "type": "string"
            },
            "text/plain": [
              "'red light ticket from when me and manny stole that'"
            ]
          },
          "metadata": {
            "tags": []
          },
          "execution_count": 103
        }
      ]
    },
    {
      "cell_type": "code",
      "metadata": {
        "id": "3WYL4KGi_FXS"
      },
      "source": [
        "df = df.reset_index(drop=True)"
      ],
      "execution_count": null,
      "outputs": []
    },
    {
      "cell_type": "code",
      "metadata": {
        "colab": {
          "base_uri": "https://localhost:8080/"
        },
        "id": "pmguue2O_S2T",
        "outputId": "ec0e5bd4-f7aa-4d21-b3e5-689fb2cf15ce"
      },
      "source": [
        "df.shape"
      ],
      "execution_count": null,
      "outputs": [
        {
          "output_type": "execute_result",
          "data": {
            "text/plain": [
              "(29863, 2)"
            ]
          },
          "metadata": {
            "tags": []
          },
          "execution_count": 104
        }
      ]
    },
    {
      "cell_type": "markdown",
      "metadata": {
        "id": "ZuaanyV__Wek"
      },
      "source": [
        "- 4천개가 주는 매직~~~"
      ]
    },
    {
      "cell_type": "markdown",
      "metadata": {
        "id": "QIFwaAnGYHRU"
      },
      "source": [
        "## TODO\n",
        "[] 화면자막 지우기"
      ]
    },
    {
      "cell_type": "markdown",
      "metadata": {
        "id": "l20KdqGk8qcd"
      },
      "source": [
        "- ...으로 끝나는 문장들 뒤랑 붙여줘야 할 수도 있음"
      ]
    },
    {
      "cell_type": "code",
      "metadata": {
        "id": "UyhVkpLx-0jO"
      },
      "source": [
        "df.to_csv('/content/drive/MyDrive/dataset/corpus/netsubs1_0426.csv', index=False)"
      ],
      "execution_count": null,
      "outputs": []
    },
    {
      "cell_type": "markdown",
      "metadata": {
        "id": "2GJ13RBz_mfm"
      },
      "source": [
        "- 드라이브에 저장, 잘 저장됐는지 확인"
      ]
    },
    {
      "cell_type": "code",
      "metadata": {
        "id": "137nCC8n_fkG"
      },
      "source": [
        "df2 = pd.read_csv('/content/drive/MyDrive/dataset/netsubs.csv')"
      ],
      "execution_count": null,
      "outputs": []
    },
    {
      "cell_type": "code",
      "metadata": {
        "colab": {
          "base_uri": "https://localhost:8080/",
          "height": 415
        },
        "id": "HTt4ifTC_icf",
        "outputId": "d69355e4-636b-4371-fc54-5c01ddbc121c"
      },
      "source": [
        "df2"
      ],
      "execution_count": null,
      "outputs": [
        {
          "output_type": "execute_result",
          "data": {
            "text/html": [
              "<div>\n",
              "<style scoped>\n",
              "    .dataframe tbody tr th:only-of-type {\n",
              "        vertical-align: middle;\n",
              "    }\n",
              "\n",
              "    .dataframe tbody tr th {\n",
              "        vertical-align: top;\n",
              "    }\n",
              "\n",
              "    .dataframe thead th {\n",
              "        text-align: right;\n",
              "    }\n",
              "</style>\n",
              "<table border=\"1\" class=\"dataframe\">\n",
              "  <thead>\n",
              "    <tr style=\"text-align: right;\">\n",
              "      <th></th>\n",
              "      <th>en</th>\n",
              "      <th>kr</th>\n",
              "    </tr>\n",
              "  </thead>\n",
              "  <tbody>\n",
              "    <tr>\n",
              "      <th>0</th>\n",
              "      <td>that would be four , actually . oh , god . com...</td>\n",
              "      <td>세 번 연속으로 이기셨네요 정확히는 네 번 연속이에요</td>\n",
              "    </tr>\n",
              "    <tr>\n",
              "      <th>1</th>\n",
              "      <td>what do you say , we go five outta nine ?</td>\n",
              "      <td>이제 9판 5승제로 갈까요 ?</td>\n",
              "    </tr>\n",
              "    <tr>\n",
              "      <th>2</th>\n",
              "      <td>so you can keep abusing me ? no , thank you . ...</td>\n",
              "      <td>계속 갖고 노시려고요 ? 됐어요 , 그만할래요</td>\n",
              "    </tr>\n",
              "    <tr>\n",
              "      <th>3</th>\n",
              "      <td>oh , come on . i'll spot you three .</td>\n",
              "      <td>세 판 핸디캡 드릴게요</td>\n",
              "    </tr>\n",
              "    <tr>\n",
              "      <th>4</th>\n",
              "      <td>game time's over , wyatt . they're here . they...</td>\n",
              "      <td>와이엇 씨 , 그만 놀고 가시죠 왔나요 ?</td>\n",
              "    </tr>\n",
              "    <tr>\n",
              "      <th>...</th>\n",
              "      <td>...</td>\n",
              "      <td>...</td>\n",
              "    </tr>\n",
              "    <tr>\n",
              "      <th>30250</th>\n",
              "      <td>report card . mm hmm . report card .</td>\n",
              "      <td>성적표</td>\n",
              "    </tr>\n",
              "    <tr>\n",
              "      <th>30251</th>\n",
              "      <td>notice from the city to take down the tree hou...</td>\n",
              "      <td>나무 위 집을 계속 놔둘 거면</td>\n",
              "    </tr>\n",
              "    <tr>\n",
              "      <th>30252</th>\n",
              "      <td>or be fined $25 a day .</td>\n",
              "      <td>하루 25달러씩 벌금 내라는 편지요</td>\n",
              "    </tr>\n",
              "    <tr>\n",
              "      <th>30253</th>\n",
              "      <td>report card .</td>\n",
              "      <td>성적표</td>\n",
              "    </tr>\n",
              "    <tr>\n",
              "      <th>30254</th>\n",
              "      <td>red light ticket from when me and manny stole ...</td>\n",
              "      <td>저랑 매니가 몰래 차 탔을 때 신호 위반 딱지 . . .</td>\n",
              "    </tr>\n",
              "  </tbody>\n",
              "</table>\n",
              "<p>30255 rows × 2 columns</p>\n",
              "</div>"
            ],
            "text/plain": [
              "                                                      en                               kr\n",
              "0      that would be four , actually . oh , god . com...    세 번 연속으로 이기셨네요 정확히는 네 번 연속이에요\n",
              "1              what do you say , we go five outta nine ?                 이제 9판 5승제로 갈까요 ?\n",
              "2      so you can keep abusing me ? no , thank you . ...        계속 갖고 노시려고요 ? 됐어요 , 그만할래요\n",
              "3                   oh , come on . i'll spot you three .                     세 판 핸디캡 드릴게요\n",
              "4      game time's over , wyatt . they're here . they...          와이엇 씨 , 그만 놀고 가시죠 왔나요 ?\n",
              "...                                                  ...                              ...\n",
              "30250               report card . mm hmm . report card .                              성적표\n",
              "30251  notice from the city to take down the tree hou...                 나무 위 집을 계속 놔둘 거면\n",
              "30252                            or be fined $25 a day .              하루 25달러씩 벌금 내라는 편지요\n",
              "30253                                      report card .                              성적표\n",
              "30254  red light ticket from when me and manny stole ...  저랑 매니가 몰래 차 탔을 때 신호 위반 딱지 . . .\n",
              "\n",
              "[30255 rows x 2 columns]"
            ]
          },
          "metadata": {
            "tags": []
          },
          "execution_count": 221
        }
      ]
    }
  ]
}